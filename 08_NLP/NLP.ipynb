{
 "cells": [
  {
   "cell_type": "markdown",
   "metadata": {},
   "source": [
    "# Define vocabulary (set of words)"
   ]
  },
  {
   "cell_type": "code",
   "execution_count": 1,
   "metadata": {},
   "outputs": [],
   "source": [
    "import sys\n",
    "\n",
    "f = open('reviews.txt')\n",
    "raw_reviews = f.readlines()\n",
    "f.close()\n",
    "\n",
    "f = open('labels.txt')\n",
    "raw_labels = f.readlines()\n",
    "f.close()\n",
    "\n",
    "tokens = list(map(lambda x: set(x.split(\" \")), raw_reviews))\n",
    "\n",
    "vocab = set()\n",
    "for sent in tokens:\n",
    "    for word in sent:\n",
    "        if(len(word)>0):\n",
    "            vocab.add(word)\n",
    "vocab = list(vocab)\n",
    "\n",
    "word2index = {}\n",
    "for i,word in enumerate(vocab):\n",
    "    word2index[word] = i\n",
    "\n",
    "input_dataset = list()\n",
    "for sent in tokens:\n",
    "    sent_indices = list()\n",
    "    for word in sent:\n",
    "        try:\n",
    "            sent_indices.append(word2index[word])\n",
    "        except:\n",
    "            \"\"\n",
    "    input_dataset.append(list(set(sent_indices)))\n",
    "target_dataset = list()\n",
    "for label in raw_labels:\n",
    "    if label=='positive\\n':\n",
    "        target_dataset.append(1)\n",
    "    else:\n",
    "        target_dataset.append(0)"
   ]
  },
  {
   "cell_type": "markdown",
   "metadata": {},
   "source": [
    "# Word embedding"
   ]
  },
  {
   "cell_type": "code",
   "execution_count": 2,
   "metadata": {},
   "outputs": [
    {
     "name": "stdout",
     "output_type": "stream",
     "text": [
      "Iter: 0 Progress: 18.62% Training Accuracy: 0.30303030303030304%\n",
      "Iter: 1 Progress: 18.62% Training Accuracy: 0.5021459227467812%%\n",
      "Iter: 2 Progress: 18.62% Training Accuracy: 0.6362339514978602%\n",
      "Iter: 3 Progress: 18.62% Training Accuracy: 0.7147435897435898%\n",
      "Iter: 4 Progress: 18.62% Training Accuracy: 0.7660119555935099%\n",
      "Iter: 5 Progress: 18.62% Training Accuracy: 0.8036984352773826%\n",
      "Iter: 6 Progress: 18.62% Training Accuracy: 0.8312004875076173%\n",
      "Iter: 7 Progress: 18.62% Training Accuracy: 0.8518123667377399%\n",
      "Iter: 8 Progress: 18.62% Training Accuracy: 0.8678351492183799%\n",
      "Iter: 9 Progress: 18.62% Training Accuracy: 0.881074168797954%%\n",
      "Iter: 10 Progress: 18.62% Training Accuracy: 0.891902363425029%%\n",
      "Iter: 11 Progress: 18.62% Training Accuracy: 0.9009232954545454%\n",
      "Iter: 12 Progress: 18.62% Training Accuracy: 0.9085545722713865%\n",
      "Iter: 13 Progress: 18.62% Training Accuracy: 0.9150943396226415%\n",
      "Iter: 14 Progress: 18.62% Training Accuracy: 0.9207611474013064%\n",
      "Iter: 15 Progress: 18.62% Training Accuracy: 0.9257188498402555%\n",
      "Iter: 16 Progress: 18.62% Training Accuracy: 0.9300927085943372%\n",
      "Iter: 17 Progress: 18.62% Training Accuracy: 0.9339801230477993%\n",
      "Iter: 18 Progress: 18.62% Training Accuracy: 0.937457969065232%%\n",
      "Iter: 19 Progress: 18.62% Training Accuracy: 0.940587734241908%%\n",
      "Iter: 20 Progress: 18.62% Training Accuracy: 0.9434191847495437%\n",
      "Iter: 21 Progress: 18.62% Training Accuracy: 0.945993031358885%%\n",
      "Iter: 22 Progress: 18.62% Training Accuracy: 0.9483428994630624%\n",
      "Iter: 23 Progress: 18.62% Training Accuracy: 0.9504968062455642%\n",
      "Iter: 24 Progress: 18.62% Training Accuracy: 0.9524782830863566%\n",
      "Iter: 25 Progress: 18.62% Training Accuracy: 0.9543072387815263%\n",
      "Iter: 26 Progress: 18.62% Training Accuracy: 0.9560006308153288%\n",
      "Iter: 27 Progress: 18.62% Training Accuracy: 0.9575729927007299%\n",
      "Iter: 28 Progress: 18.62% Training Accuracy: 0.9590368521509323%\n",
      "Iter: 29 Progress: 18.62% Training Accuracy: 0.9604030655691173%\n",
      "Iter: 30 Progress: 18.62% Training Accuracy: 0.9616810877626699%\n",
      "Iter: 31 Progress: 18.62% Training Accuracy: 0.9628791910590739%\n",
      "Iter: 32 Progress: 18.62% Training Accuracy: 0.964004644561992%%\n",
      "Iter: 33 Progress: 18.62% Training Accuracy: 0.9650638617580767%\n",
      "Iter: 34 Progress: 18.62% Training Accuracy: 0.9660625228074443%\n",
      "Iter: 35 Progress: 18.62% Training Accuracy: 0.9670056764427626%\n",
      "Iter: 36 Progress: 18.62% Training Accuracy: 0.9678978253365551%\n",
      "Iter: 37 Progress: 18.62% Training Accuracy: 0.9687429979834192%\n",
      "Iter: 38 Progress: 18.62% Training Accuracy: 0.9695448095186116%\n",
      "Iter: 39 Progress: 18.62% Training Accuracy: 0.9703065134099617%\n",
      "Iter: 40 Progress: 18.62% Training Accuracy: 0.9710310455819748%\n",
      "Iter: 41 Progress: 18.62% Training Accuracy: 0.9717210622339347%\n",
      "Iter: 42 Progress: 18.62% Training Accuracy: 0.9723789723789724%\n",
      "Iter: 43 Progress: 18.62% Training Accuracy: 0.9730069659442725%\n",
      "Iter: 44 Progress: 18.62% Training Accuracy: 0.9736070381231672%\n",
      "Iter: 45 Progress: 18.62% Training Accuracy: 0.9741810105496946%\n",
      "Iter: 46 Progress: 18.62% Training Accuracy: 0.9747305497690426%\n",
      "Iter: 47 Progress: 18.62% Training Accuracy: 0.9752571833983682%\n",
      "Iter: 48 Progress: 18.62% Training Accuracy: 0.9757623143080532%\n",
      "Iter: 49 Progress: 18.62% Training Accuracy: 0.97624723310063%6%\n",
      "Iter: 50 Progress: 18.62% Training Accuracy: 0.9767131291211084%\n",
      "Iter: 51 Progress: 18.62% Training Accuracy: 0.9771611001964636%\n",
      "Iter: 52 Progress: 18.62% Training Accuracy: 0.977592161272187%%\n",
      "Iter: 53 Progress: 18.62% Training Accuracy: 0.9780072520889169%\n",
      "Iter: 54 Progress: 18.62% Training Accuracy: 0.9784072440213606%\n",
      "Iter: 55 Progress: 18.62% Training Accuracy: 0.9787929461842505%\n",
      "Iter: 56 Progress: 18.62% Training Accuracy: 0.9791651108953775%\n",
      "Iter: 57 Progress: 18.62% Training Accuracy: 0.9795244385733157%\n",
      "Iter: 58 Progress: 18.62% Training Accuracy: 0.9798715821369309%\n",
      "Iter: 59 Progress: 18.62% Training Accuracy: 0.9802071509648127%\n",
      "Iter: 60 Progress: 18.62% Training Accuracy: 0.9805317144651455%\n",
      "Iter: 61 Progress: 18.62% Training Accuracy: 0.9808458053000138%\n",
      "Iter: 62 Progress: 18.62% Training Accuracy: 0.9811499223025472%\n",
      "Iter: 63 Progress: 18.62% Training Accuracy: 0.9814445331205107%\n",
      "Iter: 64 Progress: 18.62% Training Accuracy: 0.9817300766158077%\n",
      "Iter: 65 Progress: 18.62% Training Accuracy: 0.9820069650457888%\n",
      "Iter: 66 Progress: 18.62% Training Accuracy: 0.982275586049171%%\n",
      "Iter: 67 Progress: 18.62% Training Accuracy: 0.982536304456685%%\n",
      "Iter: 68 Progress: 18.62% Training Accuracy: 0.9827894639442354%\n",
      "Iter: 69 Progress: 18.62% Training Accuracy: 0.9830353885443269%\n",
      "Iter: 70 Progress: 18.62% Training Accuracy: 0.9832743840297344%\n",
      "Iter: 71 Progress: 18.62% Training Accuracy: 0.9835067391818397%\n",
      "Iter: 72 Progress: 18.62% Training Accuracy: 0.9837327269546965%\n",
      "Iter: 73 Progress: 18.62% Training Accuracy: 0.9839526055446911%\n",
      "Iter: 74 Progress: 18.62% Training Accuracy: 0.9841666193746098%\n",
      "Iter: 75 Progress: 18.62% Training Accuracy: 0.984375%445365908%\n",
      "Iter: 76 Progress: 18.62% Training Accuracy: 0.9845779669448897%\n",
      "Iter: 77 Progress: 18.62% Training Accuracy: 0.9847757284732075%\n",
      "Iter: 78 Progress: 18.62% Training Accuracy: 0.9849684823016002%\n",
      "Iter: 79 Progress: 18.62% Training Accuracy: 0.9851564162587785%\n",
      "Iter: 80 Progress: 18.62% Training Accuracy: 0.9853397088960117%\n",
      "Iter: 81 Progress: 18.62% Training Accuracy: 0.985518530052943%%\n",
      "Iter: 82 Progress: 18.62% Training Accuracy: 0.9856930413824933%\n",
      "Iter: 83 Progress: 18.62% Training Accuracy: 0.9858633968382651%\n",
      "Iter: 84 Progress: 18.62% Training Accuracy: 0.9860297431275349%\n",
      "Iter: 85 Progress: 18.62% Training Accuracy: 0.9861922201326339%\n",
      "Iter: 86 Progress: 18.62% Training Accuracy: 0.986350961303263%%\n",
      "Iter: 87 Progress: 18.62% Training Accuracy: 0.9865060940220546%\n",
      "Iter: 88 Progress: 18.62% Training Accuracy: 0.9866577399454832%\n",
      "Iter: 89 Progress: 18.62% Training Accuracy: 0.9868060153220467%\n",
      "Iter: 90 Progress: 18.62% Training Accuracy: 0.9869510312894626%\n",
      "Iter: 91 Progress: 18.62% Training Accuracy: 0.9870928941524797%\n",
      "Iter: 92 Progress: 18.62% Training Accuracy: 0.9872317056427623%\n",
      "Iter: 93 Progress: 18.62% Training Accuracy: 0.9873675631621842%\n",
      "Iter: 94 Progress: 18.62% Training Accuracy: 0.9875005600107523%\n",
      "Iter: 95 Progress: 18.62% Training Accuracy: 0.9876307856002837%\n",
      "Iter: 96 Progress: 18.62% Training Accuracy: 0.9877583256548638%\n",
      "Iter: 97 Progress: 18.62% Training Accuracy: 0.9878832623990272%\n",
      "Iter: 98 Progress: 18.62% Training Accuracy: 0.9880056747345342%\n",
      "Iter: 99 Progress: 18.62% Training Accuracy: 0.9881256384065373%\n",
      "Test Accuracy: 0.9773061224489796\n"
     ]
    }
   ],
   "source": [
    "import numpy as np\n",
    "np.random.seed(1)\n",
    "\n",
    "def sigmoid(x):\n",
    "    return 1/(1+np.exp(-x))\n",
    "\n",
    "alpha, iterations = (0.01, 100)\n",
    "hidden_size = 100\n",
    "\n",
    "weights_0_1 = 0.2*np.random.random((len(vocab), hidden_size))-0.1\n",
    "weights_1_2 = 0.2*np.random.random((hidden_size, 1))-0.1\n",
    "\n",
    "correct, total = (0,0)\n",
    "for iter in range(iterations):\n",
    "    for i in range(len(input_dataset)-1000):\n",
    "        x,y = (input_dataset[i], target_dataset[i])\n",
    "        layer_1  =sigmoid(np.sum(weights_0_1[x],axis=0))\n",
    "        layer_2 = sigmoid(np.dot(layer_1, weights_1_2))\n",
    "        layer_2_delta = layer_2-y\n",
    "        layer_1_delta = layer_2_delta.dot(weights_1_2.T)\n",
    "        weights_0_1[x] -= layer_1_delta*alpha\n",
    "        weights_1_2 -= np.outer(layer_1, layer_2_delta)*alpha\n",
    "        if (np.abs(layer_2_delta)<0.5):\n",
    "            correct += 1\n",
    "        total+=1\n",
    "        if(i%10 == 0):\n",
    "            progress = str(i/float(len(input_dataset)))\n",
    "            sys.stdout.write('\\rIter: ' + str(iter) + \n",
    "                            ' Progress: ' + progress[2:4] +\n",
    "                            '.' + progress[4:6] + \n",
    "                            '% Training Accuracy: ' + str(correct/float(total)) + '%')\n",
    "    print()\n",
    "for i in range(len(input_dataset)-1000, len(input_dataset)):\n",
    "    x = input_dataset[i]\n",
    "    y = target_dataset[i]\n",
    "    \n",
    "    layer_1 = sigmoid(np.sum(weights_0_1[x], axis=0))\n",
    "    layer_2 = sigmoid(np.dot(layer_1, weights_1_2))\n",
    "    \n",
    "    if(np.abs(layer_2-y)<0.5):\n",
    "        correct += 1\n",
    "    total += 1\n",
    "print(\"Test Accuracy: \" + str(correct/float(total)))"
   ]
  },
  {
   "cell_type": "markdown",
   "metadata": {},
   "source": [
    "# Words comparison"
   ]
  },
  {
   "cell_type": "code",
   "execution_count": 3,
   "metadata": {},
   "outputs": [],
   "source": [
    "from collections import Counter\n",
    "import math\n",
    "\n",
    "def similar(target='beautiful'):\n",
    "    target_index = word2index[target]\n",
    "    scores = Counter()\n",
    "\n",
    "    for word, index in word2index.items():\n",
    "        raw_difference = weights_0_1[index] - weights_0_1[target_index]\n",
    "        squared_difference = raw_difference*raw_difference\n",
    "        scores[word] = -math.sqrt(sum(squared_difference))\n",
    "        \n",
    "    return scores.most_common(10)"
   ]
  },
  {
   "cell_type": "code",
   "execution_count": 4,
   "metadata": {},
   "outputs": [
    {
     "name": "stdout",
     "output_type": "stream",
     "text": [
      "[('beautiful', -0.0), ('every', -0.7572337074830178), ('face', -0.765454329368547), ('williams', -0.7659953760027031), ('years', -0.7672558387308264), ('language', -0.7685560304767548), ('both', -0.7694482531598512), ('some', -0.7702098505268767), ('great', -0.7749907381614523), ('for', -0.7759880492782278)]\n"
     ]
    }
   ],
   "source": [
    "print(similar('beautiful'))"
   ]
  },
  {
   "cell_type": "code",
   "execution_count": 5,
   "metadata": {},
   "outputs": [
    {
     "name": "stdout",
     "output_type": "stream",
     "text": [
      "[('terrible', -0.0), ('simplistic', -0.6921512305633609), ('purposely', -0.6991689254200739), ('inferiority', -0.6998003894698095), ('bother', -0.707274585303948), ('envy', -0.7089653828985435), ('injuries', -0.709563056704115), ('cucumber', -0.7108000066159067), ('marketplace', -0.7113928490043255), ('inadequacy', -0.714203477291545)]\n"
     ]
    }
   ],
   "source": [
    "print(similar('terrible'))"
   ]
  },
  {
   "cell_type": "markdown",
   "metadata": {},
   "source": [
    "# Filling missing words"
   ]
  },
  {
   "cell_type": "code",
   "execution_count": 6,
   "metadata": {},
   "outputs": [
    {
     "name": "stdout",
     "output_type": "stream",
     "text": [
      "Progress: 0.9109311740890689 [('terrible', -0.0), ('decent', -1.864111821634946), ('horrible', -1.896257491109925), ('fine', -2.0403210154996754), ('charming', -2.0646488383669084), ('memorable', -2.1150698307529447), ('superb', -2.1554300267804116), ('disturbing', -2.1596982208339375), ('disney', -2.2177548152395206), ('happy', -2.246612939342435)]81905)]\n",
      "\n",
      "\n",
      "\n",
      "[('terrible', -0.0), ('horrible', -1.800534012235169), ('fine', -1.857604131397638), ('decent', -1.8699809881713116), ('popular', -1.9361924654826963), ('disturbing', -1.9721102882052681), ('charming', -1.991120937277976), ('memorable', -2.0442231315297743), ('superb', -2.0739687380745986), ('happy', -2.0843847968253875)]\n"
     ]
    }
   ],
   "source": [
    "import sys, random, math\n",
    "from collections import Counter\n",
    "import numpy as np\n",
    "\n",
    "np.random.seed(1)\n",
    "random.seed(1)\n",
    "f = open('reviews.txt')\n",
    "raw_reviews = f.readlines()\n",
    "f.close()\n",
    "\n",
    "tokens = list(map(lambda x: (x.split(\" \")), raw_reviews))\n",
    "wordcnt = Counter()\n",
    "for sent in tokens:\n",
    "    for word in sent:\n",
    "        wordcnt[word] -= 1\n",
    "vocab = list(set(map(lambda x: x[0], wordcnt.most_common())))\n",
    "word2indedx = {}\n",
    "for i,word in enumerate(vocab):\n",
    "    word2index[word] = i\n",
    "    \n",
    "concatenated = list()\n",
    "input_dataset = list()\n",
    "for sent in tokens:\n",
    "    sent_indices = list()\n",
    "    for word in sent:\n",
    "        try:\n",
    "            sent_indices.append(word2index[word])\n",
    "            concatenated.append(word2index[word])\n",
    "        except:\n",
    "            \"\"\n",
    "    input_dataset.append(sent_indices)\n",
    "concatenated = np.array(concatenated)\n",
    "random.shuffle(input_dataset)\n",
    "alpha, iterations = (0.05, 2)\n",
    "hidden_size, window, negative = (50, 2, 5)\n",
    "\n",
    "weights_0_1 = (np.random.rand(len(vocab), hidden_size) - 0.5)*0.2\n",
    "weights_1_2 = np.random.rand(len(vocab), hidden_size)*0\n",
    "layer_2_target = np.zeros(negative+1)\n",
    "layer_2_target[0] = 1\n",
    "\n",
    "def similar(target='beautiful'):\n",
    "    target_index = word2index[target]\n",
    "    scores = Counter()\n",
    "    for word, index in word2index.items():\n",
    "        raw_difference = weights_0_1[index] - (weights_0_1[target_index])\n",
    "        squared_difference = raw_difference*raw_difference\n",
    "        scores[word] = -math.sqrt(sum(squared_difference))\n",
    "    return scores.most_common(10)\n",
    "\n",
    "def sigmoid(x):\n",
    "    return 1/(1+np.exp(-x))\n",
    "\n",
    "for rev_i, review in enumerate(input_dataset*iterations):\n",
    "    for target_i in range(len(review)):\n",
    "        target_samples = [review[target_i]]+list(concatenated[(np.random.rand(negative)*len(concatenated)).astype('int').tolist()])\n",
    "        \n",
    "        left_context = review[max(0,target_i-window):target_i]\n",
    "        right_context = review[target_i+1:min(len(review), target_i+window)]\n",
    "        \n",
    "        layer_1 = np.mean(weights_0_1[left_context+right_context], axis=0)\n",
    "        layer_2 = sigmoid(layer_1.dot(weights_1_2[target_samples].T))\n",
    "        \n",
    "        layer_2_delta = layer_2 - layer_2_target\n",
    "        layer_1_delta = layer_2_delta.dot(weights_1_2[target_samples])\n",
    "        \n",
    "        weights_0_1[left_context+right_context] -= layer_1_delta*alpha\n",
    "        weights_1_2[target_samples] -= np.outer(layer_2_delta, layer_1)*alpha\n",
    "    \n",
    "    if(rev_i % 250 == 0):\n",
    "        sys.stdout.write('\\rProgress: '+str(rev_i/float(len(input_dataset)*iterations))\n",
    "                        +\" \"+str(similar('terrible')))\n",
    "print(\"\\n\\n\\n\")\n",
    "print(similar('terrible'))"
   ]
  },
  {
   "cell_type": "markdown",
   "metadata": {},
   "source": [
    "# Word analogies"
   ]
  },
  {
   "cell_type": "code",
   "execution_count": 13,
   "metadata": {},
   "outputs": [],
   "source": [
    "def analogy(positive=['terrible', 'good'], negative=['bad']):\n",
    "    norms = np.sum(weights_0_1*weights_0_1, axis=1)\n",
    "    norms.resize(norms.shape[0], 1)\n",
    "    normed_weights = weights_0_1*norms\n",
    "    query_vect = np.zeros(len(weights_0_1[0]))\n",
    "    \n",
    "    for word in positive:\n",
    "        query_vect += normed_weights[word2index[word]]\n",
    "    for word in negative:\n",
    "        query_vect -= normed_weights[word2index[word]]\n",
    "    scores = Counter()\n",
    "    for word,index in word2index.items():\n",
    "        raw_difference = weights_0_1[index]-query_vect\n",
    "        squared_difference = raw_difference*raw_difference\n",
    "        scores[word] = -math.sqrt(sum(squared_difference))\n",
    "    return scores.most_common(10)[1:]\n"
   ]
  },
  {
   "cell_type": "code",
   "execution_count": 14,
   "metadata": {},
   "outputs": [
    {
     "data": {
      "text/plain": [
       "[('this', -126.97103362969905),\n",
       " ('great', -127.08570980922502),\n",
       " ('little', -127.4276429806803),\n",
       " ('very', -127.43404700352926),\n",
       " ('lot', -127.6935008477101),\n",
       " ('such', -127.70024496778453),\n",
       " ('long', -127.86455500387312),\n",
       " ('an', -127.89975560154767),\n",
       " ('few', -127.93558009244795)]"
      ]
     },
     "execution_count": 14,
     "metadata": {},
     "output_type": "execute_result"
    }
   ],
   "source": [
    "analogy(['terrible', 'good'], ['bad'])"
   ]
  },
  {
   "cell_type": "code",
   "execution_count": 15,
   "metadata": {},
   "outputs": [
    {
     "data": {
      "text/plain": [
       "[('made', -163.99898373985727),\n",
       " ('does', -164.0263970776871),\n",
       " ('watched', -164.02997143318984),\n",
       " ('though', -164.07210865523618),\n",
       " ('since', -164.16103757273768),\n",
       " ('seen', -164.16855416663418),\n",
       " ('if', -164.26078677129084),\n",
       " ('again', -164.27222648891853),\n",
       " ('isn', -164.27786314485644)]"
      ]
     },
     "execution_count": 15,
     "metadata": {},
     "output_type": "execute_result"
    }
   ],
   "source": [
    "analogy(['elizabeth', 'he'], ['she'])"
   ]
  },
  {
   "cell_type": "code",
   "execution_count": null,
   "metadata": {},
   "outputs": [],
   "source": []
  }
 ],
 "metadata": {
  "kernelspec": {
   "display_name": "Python 3",
   "language": "python",
   "name": "python3"
  },
  "language_info": {
   "codemirror_mode": {
    "name": "ipython",
    "version": 3
   },
   "file_extension": ".py",
   "mimetype": "text/x-python",
   "name": "python",
   "nbconvert_exporter": "python",
   "pygments_lexer": "ipython3",
   "version": "3.7.6"
  }
 },
 "nbformat": 4,
 "nbformat_minor": 4
}
